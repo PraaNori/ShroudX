{
 "cells": [
  {
   "cell_type": "code",
   "execution_count": 39,
   "metadata": {},
   "outputs": [],
   "source": [
    "import re\n",
    "import base64"
   ]
  },
  {
   "cell_type": "code",
   "execution_count": 40,
   "metadata": {},
   "outputs": [],
   "source": [
    "#converting a string to binary\n",
    "def str_to_binary(text):\n",
    "    return ' '.join(format(ord(i), '08b') for i in text)"
   ]
  },
  {
   "cell_type": "code",
   "execution_count": 64,
   "metadata": {},
   "outputs": [],
   "source": [
    "#converting a binary to string\n",
    "def binary_to_str(binary_text):\n",
    "    \"\"\"Convert binary string to readable text, ensuring correct 8-bit chunks.\"\"\"\n",
    "    binary_values = binary_text.split()  # Split into separate binary characters\n",
    "\n",
    "    # Validate 8-bit chunks\n",
    "    valid_binary_values = [b for b in binary_values if len(b) == 8 and set(b) <= {\"0\", \"1\"}]\n",
    "\n",
    "    if len(valid_binary_values) != len(binary_values):  # If any chunk is invalid\n",
    "        return \"ERROR: Invalid Binary Format\"\n",
    "\n",
    "    decoded_text = ''.join(chr(int(b, 2)) for b in valid_binary_values)  # Convert to text\n",
    "    #print(f\"Decoded Message: {repr(decoded_text)}\")  # Debugging Step\n",
    "    return decoded_text"
   ]
  },
  {
   "cell_type": "code",
   "execution_count": 42,
   "metadata": {},
   "outputs": [],
   "source": [
    "#wrapping a string - adds a special unicode character(\\ufeff - zero width non breaking space) at the beginning and end of every string\n",
    "def wrap(text):\n",
    "    return \"\\ufeff\" + text + \"\\ufeff\""
   ]
  },
  {
   "cell_type": "code",
   "execution_count": 62,
   "metadata": {},
   "outputs": [],
   "source": [
    "def unwrap(string):\n",
    "    \"\"\"Extract hidden data wrapped inside \\ufeff markers.\"\"\"\n",
    "    if string.startswith(\"\\ufeff\") and \"\\ufeff\" in string[1:]:  # Ensure it has both markers\n",
    "        extracted = string[1:string.rindex(\"\\ufeff\")]  # Extract between markers\n",
    "        #print(f\"Extracted Hidden Data (repr): {repr(extracted)}\") \n",
    "        return extracted\n",
    "    print(\"No hidden message found in unwrap()! Exiting function.\")\n",
    "    return None  # No hidden message found"
   ]
  },
  {
   "cell_type": "code",
   "execution_count": 63,
   "metadata": {},
   "outputs": [],
   "source": [
    "#convert binary to zero width characters\n",
    "def binary_to_hidden(text):\n",
    "    return (text.replace(' ', '\\u2060') #word joiner\n",
    "            .replace('0', '\\u200B') #zero width space\n",
    "            .replace('1', '\\u200C')) \n"
   ]
  },
  {
   "cell_type": "code",
   "execution_count": 65,
   "metadata": {},
   "outputs": [],
   "source": [
    "def hidden_to_binary(text):\n",
    "    binary_text = (text.replace(\"\\u2060\", ' ')  # WORD JOINER (U+2060)\n",
    "                              .replace(\"\\u200B\", '0')  # ZERO WIDTH SPACE (U+200B)\n",
    "                              .replace(\"\\u200C\", '1')) # ZERO WIDTH NON-JOINER (U+200C)\n",
    "    #print(f\"Extracted Binary (repr): {repr(binary_text)}\")\n",
    "    \n",
    "    # Ensure proper spacing between binary chunks\n",
    "    binary_list = binary_text.split()\n",
    "    if any(len(b) != 8 for b in binary_list):\n",
    "        print(f\"Warning: Binary chunks not aligned as 8-bits\")  # Debugging step\n",
    "    return ' '.join(binary_list)  # Ensure proper spacing"
   ]
  },
  {
   "cell_type": "code",
   "execution_count": null,
   "metadata": {},
   "outputs": [
    {
     "name": "stdout",
     "output_type": "stream",
     "text": [
      "Text present in cover file: Hello World, this is our SE project called ShroudX, group 17. @Pradeepika, Jyothsna, Manideep, Vivekananda, Sriya. This is a steganography based project. Hope you like it :)\n",
      "Stego file saved as stego_output.txt\n"
     ]
    }
   ],
   "source": [
    "def encode_stego_file(input_file, secret_message, output_file):\n",
    "    with open(input_file, \"r\", encoding=\"utf-8\") as file:\n",
    "        cover_text = file.read()\n",
    "    print(f\"Text present in original file: {cover_text}\")\n",
    "\n",
    "    binary_secret = str_to_binary(secret_message)\n",
    "    hidden_data = binary_to_hidden(binary_secret)\n",
    "    stego_text = wrap(hidden_data) + cover_text\n",
    "\n",
    "    with open(output_file, \"w\", encoding=\"utf-8\") as file:\n",
    "        file.write(stego_text)\n",
    "    \n",
    "    print(f\"Stego file saved as {output_file}\")\n",
    "\n",
    "secret_message = \"Vadlamudi Jyothsna\"\n",
    "encode_stego_file(\"stego_file.txt\", secret_message, \"stego_output.txt\")"
   ]
  },
  {
   "cell_type": "code",
   "execution_count": 70,
   "metadata": {},
   "outputs": [
    {
     "name": "stdout",
     "output_type": "stream",
     "text": [
      "Text present in stego file: ﻿​‌​‌​‌‌​⁠​‌‌​​​​‌⁠​‌‌​​‌​​⁠​‌‌​‌‌​​⁠​‌‌​​​​‌⁠​‌‌​‌‌​‌⁠​‌‌‌​‌​‌⁠​‌‌​​‌​​⁠​‌‌​‌​​‌⁠​​‌​​​​​⁠​‌​​‌​‌​⁠​‌‌‌‌​​‌⁠​‌‌​‌‌‌‌⁠​‌‌‌​‌​​⁠​‌‌​‌​​​⁠​‌‌‌​​‌‌⁠​‌‌​‌‌‌​⁠​‌‌​​​​‌﻿Hello World, this is our SE project called ShroudX, group 17. @Pradeepika, Jyothsna, Manideep, Vivekananda, Sriya. This is a steganography based project. Hope you like it :)\n",
      "Decoded message saved as decoded_text.txt\n",
      "Decoded message: Vadlamudi Jyothsna\n"
     ]
    }
   ],
   "source": [
    "def decode_stego_file(stego_file, output_file):\n",
    "    #print(\"Opening stego file..\")\n",
    "    try:\n",
    "        with open(stego_file, \"r\", encoding=\"utf-8\") as file:\n",
    "            stego_text = file.read()\n",
    "        print(f\"Text present in stego file: {stego_text}\")\n",
    "            \n",
    "        #print(\"Stego file read successfully!\")\n",
    "        #print(f\"Raw Content (repr): {repr(stego_text)}\")\n",
    "    except Exception as e:\n",
    "        print(f\"Error reading stego file: {e}\")\n",
    "        return\n",
    "\n",
    "    #print(\"Extracting hidden data...\")\n",
    "    extracted_hidden = unwrap(stego_text)\n",
    "    if not extracted_hidden:\n",
    "        #print(\"No hidden message found! Exiting function.\")\n",
    "        return  # Exit if no hidden message is extracted\n",
    "\n",
    "    extracted_binary = hidden_to_binary(extracted_hidden)\n",
    "    decoded_message = binary_to_str(extracted_binary)\n",
    "\n",
    "    #print(\"Attempting to save decoded message...\")\n",
    "    try:\n",
    "        with open(output_file, \"w\", encoding=\"utf-8\") as file:\n",
    "            file.write(decoded_message)\n",
    "        print(f\"Decoded message saved as {output_file}\")  #success\n",
    "    except Exception as e:\n",
    "        print(f\"ERROR saving file: {e}\")\n",
    "\n",
    "# Example\n",
    "decode_stego_file(\"stego_output.txt\", \"decoded_text.txt\")\n",
    "with open(\"decoded_text.txt\", \"r\", encoding=\"utf-8\") as file:\n",
    "    text = file.read()\n",
    "print(f\"Decoded message: {text}\")"
   ]
  }
 ],
 "metadata": {
  "kernelspec": {
   "display_name": "Python 3",
   "language": "python",
   "name": "python3"
  },
  "language_info": {
   "codemirror_mode": {
    "name": "ipython",
    "version": 3
   },
   "file_extension": ".py",
   "mimetype": "text/x-python",
   "name": "python",
   "nbconvert_exporter": "python",
   "pygments_lexer": "ipython3",
   "version": "3.12.4"
  }
 },
 "nbformat": 4,
 "nbformat_minor": 2
}
