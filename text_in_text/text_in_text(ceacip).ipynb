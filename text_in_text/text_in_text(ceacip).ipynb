{
 "cells": [
  {
   "cell_type": "code",
   "execution_count": 1,
   "metadata": {},
   "outputs": [],
   "source": [
    "def encrypt(input_file, output_file):\n",
    "\n",
    "    with open(input_file, \"r\", encoding=\"utf-8\") as file:\n",
    "            text = file.read()\n",
    "    #print(f\"Text present in stego file: {text}\")\n",
    "    \n",
    "    result = \"\"\n",
    "\n",
    "    for i in range(len(text)):\n",
    "        char = text[i]\n",
    "        if char.isalpha():\n",
    "            if(char.isupper()):\n",
    "                result += chr((ord(char)+23-65) % 26 + 65)\n",
    "\n",
    "            else:\n",
    "                result += chr((ord(char)+23-97)% 26 + 97)\n",
    "        \n",
    "        elif char.isdigit():\n",
    "            result += chr((ord(char) - ord('0') + 5) % 10 + ord('0'))\n",
    "            \n",
    "        else:\n",
    "            result += char\n",
    "\n",
    "    with open(output_file, \"w\", encoding=\"utf-8\") as file:\n",
    "        file.write(result)\n",
    "\n",
    "encrypt(\"stego_file.txt\", \"stego_output.txt\")"
   ]
  },
  {
   "cell_type": "code",
   "execution_count": 3,
   "metadata": {},
   "outputs": [],
   "source": [
    "def decrypt(input_file, output_file):\n",
    "    with open(input_file, \"r\", encoding=\"utf-8\") as file:\n",
    "            text = file.read()\n",
    "\n",
    "    result = \"\"\n",
    "\n",
    "    for i in range(len(text)):\n",
    "          char = text[i]\n",
    "          if char.isalpha():\n",
    "                if(char.isupper()):\n",
    "                      result += chr((ord(char)-23-65) % 26 + 65)\n",
    "                else:\n",
    "                      result += chr((ord(char)-23-97)% 26 + 97)\n",
    "        \n",
    "          elif char.isdigit():\n",
    "            result += chr((ord(char) - ord('0') - 5) % 10 + ord('0'))\n",
    "            \n",
    "          else:\n",
    "            result += char\n",
    "\n",
    "    with open(output_file, \"w\", encoding=\"utf-8\") as file:\n",
    "        file.write(result)\n",
    "\n",
    "decrypt(\"stego_output.txt\", \"secret_text.txt\")"
   ]
  }
 ],
 "metadata": {
  "kernelspec": {
   "display_name": "Python 3",
   "language": "python",
   "name": "python3"
  },
  "language_info": {
   "codemirror_mode": {
    "name": "ipython",
    "version": 3
   },
   "file_extension": ".py",
   "mimetype": "text/x-python",
   "name": "python",
   "nbconvert_exporter": "python",
   "pygments_lexer": "ipython3",
   "version": "3.12.4"
  }
 },
 "nbformat": 4,
 "nbformat_minor": 2
}
