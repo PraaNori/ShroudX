{
  "nbformat": 4,
  "nbformat_minor": 0,
  "metadata": {
    "colab": {
      "provenance": [],
      "authorship_tag": "ABX9TyPshYvtOY2hPh9jSHfzDvrV",
      "include_colab_link": true
    },
    "kernelspec": {
      "name": "python3",
      "display_name": "Python 3"
    },
    "language_info": {
      "name": "python"
    }
  },
  "cells": [
    {
      "cell_type": "markdown",
      "metadata": {
        "id": "view-in-github",
        "colab_type": "text"
      },
      "source": [
        "<a href=\"https://colab.research.google.com/github/saisriy/ShroudX/blob/main/audio.ipynb\" target=\"_parent\"><img src=\"https://colab.research.google.com/assets/colab-badge.svg\" alt=\"Open In Colab\"/></a>"
      ]
    },
    {
      "cell_type": "code",
      "execution_count": 47,
      "metadata": {
        "colab": {
          "base_uri": "https://localhost:8080/"
        },
        "id": "Ctzt0nkyRCfg",
        "outputId": "043fc44b-19f0-4858-8c07-7cf9ad829eea"
      },
      "outputs": [
        {
          "output_type": "stream",
          "name": "stdout",
          "text": [
            "[124 130 126 ... 127 128 126]\n",
            "(6758,)\n"
          ]
        }
      ],
      "source": [
        "import numpy as np\n",
        "from scipy.io import wavfile\n",
        "from scipy.fft import fft, ifft\n",
        "from scipy.signal import resample\n",
        "\n",
        "\n",
        "sample_rate, data = wavfile.read('manideep.wav')\n",
        "\n",
        "\n",
        "if data.ndim > 1:\n",
        "    data = data.mean(axis=1)\n",
        "\n",
        "# Apply FFT to convert to frequency domain\n",
        "freq_data = fft(data)\n",
        "\n",
        "# Calculate the magnitude spectrum\n",
        "magnitude_spectrum = np.abs(freq_data)\n",
        "\n",
        "# Define a threshold to select dominant frequencies (adjust percentile as needed)\n",
        "threshold = np.percentile(magnitude_spectrum, 90)\n",
        "\n",
        "# Create a mask for dominant frequencies\n",
        "mask = magnitude_spectrum > threshold\n",
        "\n",
        "# Apply the mask to the frequency data\n",
        "filtered_freq_data = freq_data * mask\n",
        "\n",
        "# Perform IFFT to reconstruct the audio\n",
        "reconstructed_audio = np.real(ifft(filtered_freq_data))\n",
        "\n",
        "# Downsample the reconstructed audio\n",
        "downsampling_factor = 20  # Adjust as needed\n",
        "downsampled_audio = resample(reconstructed_audio, int(len(reconstructed_audio) / downsampling_factor))\n",
        "\n",
        "# Update 'love' with the downsampled audio\n",
        "love = np.array(downsampled_audio)\n",
        "\n",
        "# Normalize 'love' to 16-bit PCM range\n",
        "love = np.int16(love / np.max(np.abs(love)) * 32767)\n",
        "love = love / np.max(np.abs(love))  # Scale to [-1, 1]\n",
        "love = (love + 1) * 127.5            # Shift to [0, 255]\n",
        "love = np.uint8(love)\n",
        "simple = love\n",
        "print(simple)\n",
        "# np.savetxt('simple_audio.txt', simple, fmt='%d')\n",
        "\n",
        "audio_string = \" \".join(map(str, simple))\n",
        "with open(\"encodable_audio_text.txt\", \"w\") as f:\n",
        "    f.write(audio_string)\n",
        "# Write the downsampled and normalized 'love' to a new WAV file\n",
        "wavfile.write('reconstructed_audio_downsampled.wav', int(sample_rate / downsampling_factor), love)\n",
        "\n",
        "print(love.shape) # Print the shape of 'love' to verify the reduction"
      ]
    },
    {
      "cell_type": "code",
      "source": [
        "import cv2\n",
        "import numpy as np\n",
        "import secrets\n",
        "import time\n",
        "from skimage.metrics import structural_similarity as ssim\n",
        "import os\n",
        "\n",
        "# === EMBED ===\n",
        "def embed_text_random_expire(image_path, text_file, output_path, expiry_seconds):\n",
        "    def generate_key():\n",
        "        return secrets.randbits(32)\n",
        "\n",
        "    image = cv2.imread(image_path)\n",
        "    if image is None:\n",
        "        print(f\"Error: Could not read image at path '{image_path}'.\")\n",
        "        return None\n",
        "\n",
        "    # Read numbers from file (e.g., 8-bit ints)\n",
        "    with open(text_file, \"r\", encoding=\"utf-8\") as file:\n",
        "        message = list(map(int, file.read().strip().split()))\n",
        "\n",
        "    # Add timestamp and expiry\n",
        "    timestamp_bin = format(int(time.time()), '032b')\n",
        "    expiry_bin = format(int(expiry_seconds), '032b')\n",
        "\n",
        "    # Use five 255s as a unique end marker\n",
        "    end_marker = [255, 255, 255, 255, 255]\n",
        "    message += end_marker\n",
        "\n",
        "    # Convert all to binary\n",
        "    binary_message = timestamp_bin + expiry_bin + ''.join(format(num, '08b') for num in message)\n",
        "\n",
        "    # Generate random pixel indices\n",
        "    key = generate_key()\n",
        "    np.random.seed(key)\n",
        "    pixel_indices = np.random.choice(image.size // 3, len(binary_message), replace=False)\n",
        "\n",
        "    for i, bit in enumerate(binary_message):\n",
        "        idx = pixel_indices[i]\n",
        "        row = idx // image.shape[1]\n",
        "        col = idx % image.shape[1]\n",
        "        channel = i % 3\n",
        "        image[row, col, channel] = (image[row, col, channel] & 254) | int(bit)\n",
        "\n",
        "    cv2.imwrite(output_path, image)\n",
        "    print(f\"Message embedded successfully into {output_path}\")\n",
        "    print(f\"Key: {key}\")\n",
        "    return key\n",
        "\n",
        "# === EXTRACT ===\n",
        "def extract_text_random_expire(image_path, output_text_file, key):\n",
        "    image = cv2.imread(image_path)\n",
        "    if image is None:\n",
        "        print(f\"Error: Could not read image at path '{image_path}'.\")\n",
        "        return False\n",
        "\n",
        "    np.random.seed(key)\n",
        "    pixel_indices = np.random.choice(image.size // 3, image.size // 3, replace=False)\n",
        "\n",
        "    binary_bits = []\n",
        "    for i in pixel_indices:\n",
        "        row = i // image.shape[1]\n",
        "        col = i % image.shape[1]\n",
        "        channel = len(binary_bits) % 3\n",
        "        bit = image[row, col, channel] & 1\n",
        "        binary_bits.append(str(bit))\n",
        "\n",
        "        # Check for end marker every 8 bits\n",
        "        if len(binary_bits) >= 40 and len(binary_bits) % 8 == 0:\n",
        "            last_five = [\n",
        "                int(''.join(binary_bits[-8 * i: -8 * (i - 1) if i > 1 else None]), 2)\n",
        "                for i in range(1, 6)\n",
        "            ]\n",
        "            if last_five == [255, 255, 255, 255, 255]:\n",
        "                break\n",
        "    else:\n",
        "        print(\"Error: End marker not found. Possibly wrong key or corrupted data.\")\n",
        "        return False\n",
        "\n",
        "    binary_message = ''.join(binary_bits[:-40])  # Remove end marker\n",
        "\n",
        "    try:\n",
        "        timestamp = int(binary_message[:32], 2)\n",
        "        expiry = int(binary_message[32:64], 2)\n",
        "        current = int(time.time())\n",
        "\n",
        "        if current - timestamp > expiry:\n",
        "            print(\"Error: Message has expired and cannot be extracted.\")\n",
        "            return False\n",
        "\n",
        "        binary_message = binary_message[64:]\n",
        "        message = [str(int(binary_message[i:i + 8], 2)) for i in range(0, len(binary_message), 8)]\n",
        "\n",
        "    except Exception as e:\n",
        "        print(f\"Error decoding message: {e}\")\n",
        "        return False\n",
        "\n",
        "    with open(output_text_file, \"w\", encoding=\"utf-8\") as file:\n",
        "        file.write(\" \".join(message))\n",
        "\n",
        "    print(f\"Message extracted and saved to {output_text_file}\")\n",
        "    return True\n",
        "\n",
        "# === METRICS ===\n",
        "def compute_psnr(original, stego):\n",
        "    mse = np.mean((original - stego) ** 2)\n",
        "    if mse == 0:\n",
        "        return float('inf')\n",
        "    return 20 * np.log10(255.0 / np.sqrt(mse))\n",
        "\n",
        "def compute_ssim(original, stego):\n",
        "    return ssim(original, stego, data_range=255, channel_axis=-1)\n",
        "\n",
        "def compute_hamming_distance(original, stego):\n",
        "    return np.sum(np.unpackbits(original.flatten()) != np.unpackbits(stego.flatten()))\n",
        "\n",
        "def evaluate_steganography(original_path, stego_path):\n",
        "    original = cv2.imread(original_path)\n",
        "    stego = cv2.imread(stego_path)\n",
        "    if original is None or stego is None:\n",
        "        print(\"Error: Could not read one of the images.\")\n",
        "        return\n",
        "\n",
        "    psnr_val = compute_psnr(original, stego)\n",
        "    ssim_val = compute_ssim(cv2.cvtColor(original, cv2.COLOR_BGR2GRAY), cv2.cvtColor(stego, cv2.COLOR_BGR2GRAY))\n",
        "    hamming_val = compute_hamming_distance(original, stego)\n",
        "\n",
        "    print(f\"PSNR: {psnr_val:.2f} dB\")\n",
        "    print(f\"SSIM: {ssim_val:.4f}\")\n",
        "    print(f\"Hamming Distance: {hamming_val}\")\n",
        "\n",
        "    return {\n",
        "        \"psnr\": psnr_val,\n",
        "        \"ssim\": ssim_val,\n",
        "        \"hamming\": hamming_val\n",
        "    }\n",
        "\n",
        "# === RUN PIPELINE ===\n",
        "original_image = \"image240.jpg\"\n",
        "text_file = \"encodable_audio_text.txt\"\n",
        "stego_image = \"encoded_image240.png\"\n",
        "decoded_text_file = \"decodedmad.txt\"\n",
        "\n",
        "if os.path.exists(original_image) and os.path.exists(text_file):\n",
        "    key = embed_text_random_expire(original_image, text_file, stego_image, expiry_seconds=300)\n",
        "    if key:\n",
        "        extract_text_random_expire(stego_image, decoded_text_file, key)\n",
        "        print(\"\\nEvaluation Metrics:\")\n",
        "        evaluate_steganography(original_image, stego_image)\n",
        "else:\n",
        "    print(\"Make sure your image and text files are uploaded.\")\n"
      ],
      "metadata": {
        "colab": {
          "base_uri": "https://localhost:8080/"
        },
        "id": "kjJKR4o9bMiG",
        "outputId": "a7fcdc49-ea67-4f06-a065-255a4239a163"
      },
      "execution_count": 49,
      "outputs": [
        {
          "output_type": "stream",
          "name": "stdout",
          "text": [
            "Message embedded successfully into encoded_image240.png\n",
            "Key: 955103414\n",
            "Message extracted and saved to decodedmad.txt\n",
            "\n",
            "Evaluation Metrics:\n",
            "PSNR: 56.22 dB\n",
            "SSIM: 0.9982\n",
            "Hamming Distance: 26807\n"
          ]
        }
      ]
    },
    {
      "cell_type": "code",
      "source": [
        "def decode_text_to_array(decoded_text_file):\n",
        "    # Read the decoded text file\n",
        "    with open(decoded_text_file, \"r\", encoding=\"utf-8\") as file:\n",
        "        audio_string = file.read()\n",
        "\n",
        "    # Convert the string back to a list of integers\n",
        "    # Assuming it was originally space-separated integers\n",
        "    audio_array = list(map(int, audio_string.split()))\n",
        "\n",
        "    return audio_array"
      ],
      "metadata": {
        "id": "M6JVUH2fq7JS"
      },
      "execution_count": 50,
      "outputs": []
    },
    {
      "cell_type": "code",
      "source": [
        "decoded_text_file = \"decoded_audio.txt\"\n",
        "audio_array =np.array(decode_text_to_array(decoded_text_file))\n",
        "print(audio_array)\n",
        "print(audio_array.shape)"
      ],
      "metadata": {
        "colab": {
          "base_uri": "https://localhost:8080/"
        },
        "id": "u3i5Z8r0q8Qz",
        "outputId": "879e5db0-4838-4e57-d737-f86f26e1ea14"
      },
      "execution_count": 51,
      "outputs": [
        {
          "output_type": "stream",
          "name": "stdout",
          "text": [
            "[124 130 126 ... 127 128 126]\n",
            "(6758,)\n"
          ]
        }
      ]
    },
    {
      "cell_type": "code",
      "source": [
        "audio_array = np.uint8(audio_array)  # If audio_array is not already int16\n",
        "wavfile.write('decodedmad.wav', int(sample_rate / downsampling_factor), audio_array)"
      ],
      "metadata": {
        "id": "kf7thjKjrgaS"
      },
      "execution_count": 52,
      "outputs": []
    },
    {
      "cell_type": "code",
      "source": [
        "def are_files_identical(file1_path, file2_path):\n",
        "    try:\n",
        "        with open(file1_path, 'r', encoding='utf-8') as file1, open(file2_path, 'r', encoding='utf-8') as file2:\n",
        "            # Read both files\n",
        "            file1_content = file1.read()\n",
        "            file2_content = file2.read()\n",
        "\n",
        "            # Compare the contents\n",
        "            if file1_content == file2_content:\n",
        "                print(\"The files are identical.\")\n",
        "                return True\n",
        "            else:\n",
        "                print(\"The files are not identical.\")\n",
        "                return False\n",
        "\n",
        "    except FileNotFoundError as e:\n",
        "        print(f\"Error: {e}\")\n",
        "        return False\n",
        "\n",
        "# Example usage:\n",
        "file1 = \"encodable_audio_text.txt\"\n",
        "file2 = \"decoded_audio.txt\"\n",
        "are_files_identical(file1, file2)\n"
      ],
      "metadata": {
        "colab": {
          "base_uri": "https://localhost:8080/"
        },
        "id": "MS4CswmnkHTB",
        "outputId": "565b1b50-16f5-4003-e8d2-3a7de5f762ae"
      },
      "execution_count": 11,
      "outputs": [
        {
          "output_type": "stream",
          "name": "stdout",
          "text": [
            "The files are identical.\n"
          ]
        },
        {
          "output_type": "execute_result",
          "data": {
            "text/plain": [
              "True"
            ]
          },
          "metadata": {},
          "execution_count": 11
        }
      ]
    },
    {
      "cell_type": "code",
      "source": [],
      "metadata": {
        "id": "pOLoDcptkPWq"
      },
      "execution_count": null,
      "outputs": []
    }
  ]
}