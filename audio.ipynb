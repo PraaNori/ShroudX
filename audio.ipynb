{
  "nbformat": 4,
  "nbformat_minor": 0,
  "metadata": {
    "colab": {
      "provenance": [],
      "include_colab_link": true
    },
    "kernelspec": {
      "name": "python3",
      "display_name": "Python 3"
    },
    "language_info": {
      "name": "python"
    }
  },
  "cells": [
    {
      "cell_type": "markdown",
      "metadata": {
        "id": "view-in-github",
        "colab_type": "text"
      },
      "source": [
        "<a href=\"https://colab.research.google.com/github/saisriy/ShroudX/blob/main/audio.ipynb\" target=\"_parent\"><img src=\"https://colab.research.google.com/assets/colab-badge.svg\" alt=\"Open In Colab\"/></a>"
      ]
    },
    {
      "cell_type": "code",
      "source": [
        "import numpy as np\n",
        "from scipy.io import wavfile\n",
        "from scipy.fft import fft, ifft\n",
        "from scipy.signal import resample\n",
        "import cv2\n",
        "import secrets\n",
        "import matplotlib.pyplot as plt\n",
        "import time\n",
        "from skimage.metrics import structural_similarity as ssim\n",
        "import os\n",
        "import math"
      ],
      "metadata": {
        "id": "l5g57Zw3Jqak"
      },
      "execution_count": null,
      "outputs": []
    },
    {
      "cell_type": "code",
      "source": [
        "def Read_image(image_path) :\n",
        "    image = cv2.imread(image_path)\n",
        "    return image\n",
        "\n",
        "def Write_image(image_path,image) :\n",
        "    cv2.imwrite(image_path,image)\n",
        "\n",
        "def Show_image(image,title) :\n",
        "    plt.imshow(cv2.cvtColor(image, cv2.COLOR_BGR2RGB))\n",
        "    plt.title(title)\n",
        "    plt.show()\n",
        "\n",
        "\n",
        "def resize_image(image_path, output_path, width, height) :\n",
        "    image = Read_image(image_path)\n",
        "    resized_image = cv2.resize(image, (width, height))\n",
        "    Write_image(output_path, resized_image)\n",
        "    print(f\"Resized image saved to {output_path}\")\n"
      ],
      "metadata": {
        "id": "ehOc7uT1VFg1"
      },
      "execution_count": null,
      "outputs": []
    },
    {
      "cell_type": "code",
      "source": [
        "def audio_to_array(audio_file,quality = 90,downsampling_factor = 20) :\n",
        "\n",
        "    sample_rate, data = wavfile.read(audio_file)\n",
        "\n",
        "    if data.ndim > 1 :\n",
        "      data = data.mean(axis=1)\n",
        "\n",
        "    frequencyDomainData = fft(data)\n",
        "    magnitudeSpectrum = np.abs(frequencyDomainData)\n",
        "\n",
        "    threshold = np.percentile(magnitudeSpectrum, quality)\n",
        "\n",
        "    dominantData = magnitudeSpectrum > threshold\n",
        "\n",
        "    filteredData = frequencyDomainData * dominantData\n",
        "\n",
        "    dominantAudio = np.real(ifft(filteredData))\n",
        "\n",
        "    downsampled_audio = resample(dominantAudio, int(len(dominantAudio) / downsampling_factor))\n",
        "    downsampled_audio = np.array(downsampled_audio)\n",
        "    downsampled_audio = np.int16(downsampled_audio / np.max(np.abs(downsampled_audio)) * 32767)\n",
        "    downsampled_audio = downsampled_audio / np.max(np.abs(downsampled_audio))\n",
        "    downsampled_audio = (downsampled_audio + 1) * 127.5\n",
        "    downsampled_audio = np.uint8(downsampled_audio)\n",
        "\n",
        "    return downsampled_audio,sample_rate\n"
      ],
      "metadata": {
        "id": "oe_7jyOmJusJ"
      },
      "execution_count": null,
      "outputs": []
    },
    {
      "cell_type": "code",
      "source": [
        "def array_to_text(numbers,textfile) :\n",
        "\n",
        "    with open(textfile, \"w\") as f:\n",
        "        f.write(\" \".join(map(str, numbers)))\n"
      ],
      "metadata": {
        "id": "RUmo8l2GM2Xa"
      },
      "execution_count": null,
      "outputs": []
    },
    {
      "cell_type": "code",
      "source": [
        "def text_to_array(textfile) :\n",
        "\n",
        "    with open(textfile, \"r\", encoding=\"utf-8\") as file :\n",
        "        audio_string = file.read()\n",
        "\n",
        "    audio_array = list(map(int, audio_string.split()))\n",
        "\n",
        "    return audio_array"
      ],
      "metadata": {
        "id": "v1nyjyjgNNVT"
      },
      "execution_count": null,
      "outputs": []
    },
    {
      "cell_type": "code",
      "source": [
        "def array_to_audio(audio_file,audio_array,sample_rate,quality = 90,downsampling_factor = 20) :\n",
        "\n",
        "    audio_array = np.uint8(audio_array)\n",
        "    wavfile.write(audio_file, int(sample_rate / downsampling_factor), audio_array)"
      ],
      "metadata": {
        "id": "Gp_zswTrNmlL"
      },
      "execution_count": null,
      "outputs": []
    },
    {
      "cell_type": "code",
      "source": [
        "def are_files_identical(file1_path, file2_path):\n",
        "    try:\n",
        "        with open(file1_path, 'r', encoding='utf-8') as file1, open(file2_path, 'r', encoding='utf-8') as file2:\n",
        "            # Read both files\n",
        "            file1_content = file1.read()\n",
        "            file2_content = file2.read()\n",
        "\n",
        "            # Compare the contents\n",
        "            if file1_content == file2_content:\n",
        "                print(\"The files are identical.\")\n",
        "                return True\n",
        "            else:\n",
        "                print(\"The files are not identical.\")\n",
        "                return False\n",
        "\n",
        "    except FileNotFoundError as e:\n",
        "        print(f\"Error: {e}\")\n",
        "        return False"
      ],
      "metadata": {
        "id": "MS4CswmnkHTB"
      },
      "execution_count": null,
      "outputs": []
    },
    {
      "cell_type": "code",
      "source": [
        "def embed_text_random_expire(image_path, text_file, output_path, expiry_seconds) :\n",
        "\n",
        "    def generate_key() :\n",
        "\n",
        "        return secrets.randbits(32)\n",
        "\n",
        "    image = cv2.imread(image_path)\n",
        "\n",
        "    if image is None :\n",
        "\n",
        "        print(f\"Error: Could not read image at path '{image_path}'.\")\n",
        "        return None\n",
        "\n",
        "    with open(text_file, \"r\", encoding=\"utf-8\") as file :\n",
        "\n",
        "        message = list(map(int, file.read().strip().split()))\n",
        "\n",
        "    timestamp_bin = format(int(time.time()), '032b')\n",
        "    expiry_bin = format(int(expiry_seconds), '032b')\n",
        "\n",
        "    end_marker = [255, 255, 255, 255, 255]\n",
        "    message += end_marker\n",
        "\n",
        "    binary_message = timestamp_bin + expiry_bin + ''.join(format(num, '08b') for num in message)\n",
        "\n",
        "    key = generate_key()\n",
        "    np.random.seed(key)\n",
        "\n",
        "    if len(binary_message) > image.size // 3:\n",
        "        print(\"Attention : Message is too long to be embedded in the image.\")\n",
        "        print(\"Resizing because of small cover image\")\n",
        "\n",
        "        height, width, _ = image.shape\n",
        "        resizing_factor = int(math.sqrt(int(int(len(binary_message) / (height * width)) + 1)) + 1)\n",
        "        new_height = int(height * resizing_factor) + 3\n",
        "        new_width = int(width * resizing_factor) + 3\n",
        "        resize_image(image_path,image_path,new_width,new_height)\n",
        "        image = cv2.imread(image_path)\n",
        "    pixel_indices = np.random.choice(image.size // 3, len(binary_message), replace=False)\n",
        "\n",
        "    for i, bit in enumerate(binary_message):\n",
        "        idx = pixel_indices[i]\n",
        "        row = idx // image.shape[1]\n",
        "        col = idx % image.shape[1]\n",
        "        channel = i % 3\n",
        "        image[row, col, channel] = (image[row, col, channel] & 254) | int(bit)\n",
        "\n",
        "    cv2.imwrite(output_path, image)\n",
        "    print(f\"Audio embedded successfully into {output_path}\")\n",
        "    return key\n",
        "\n",
        "\n",
        "def extract_text_random_expire(image_path, output_text_file, key) :\n",
        "\n",
        "    image = cv2.imread(image_path)\n",
        "\n",
        "    if image is None:\n",
        "        print(f\"Error: Could not read image at path '{image_path}'.\")\n",
        "        return False\n",
        "\n",
        "    np.random.seed(key)\n",
        "\n",
        "    pixel_indices = np.random.choice(image.size // 3, image.size // 3, replace=False)\n",
        "\n",
        "    binary_bits = []\n",
        "    for i in pixel_indices:\n",
        "        row = i // image.shape[1]\n",
        "        col = i % image.shape[1]\n",
        "        channel = len(binary_bits) % 3\n",
        "        bit = image[row, col, channel] & 1\n",
        "        binary_bits.append(str(bit))\n",
        "\n",
        "\n",
        "        if len(binary_bits) >= 40 and len(binary_bits) % 8 == 0:\n",
        "            last_five = [\n",
        "                int(''.join(binary_bits[-8 * i: -8 * (i - 1) if i > 1 else None]), 2)\n",
        "                for i in range(1, 6)\n",
        "            ]\n",
        "            if last_five == [255, 255, 255, 255, 255]:\n",
        "                break\n",
        "    else:\n",
        "        print(\"Error: End marker not found. Possibly wrong key or corrupted data.\")\n",
        "        return False\n",
        "\n",
        "    binary_message = ''.join(binary_bits[:-40])\n",
        "\n",
        "    try:\n",
        "        timestamp = int(binary_message[:32], 2)\n",
        "        expiry = int(binary_message[32:64], 2)\n",
        "        current = int(time.time())\n",
        "\n",
        "        if current - timestamp > expiry:\n",
        "            print(\"Error: Message has expired and cannot be extracted.\")\n",
        "            return False\n",
        "\n",
        "        binary_message = binary_message[64:]\n",
        "        message = [str(int(binary_message[i:i + 8], 2)) for i in range(0, len(binary_message), 8)]\n",
        "\n",
        "    except Exception as e:\n",
        "        print(f\"Error decoding message: {e}\")\n",
        "        return False\n",
        "\n",
        "    with open(output_text_file, \"w\", encoding=\"utf-8\") as file:\n",
        "        file.write(\" \".join(message))\n",
        "\n",
        "    print(f\"Message extracted and saved to {output_text_file}\")\n",
        "    return True"
      ],
      "metadata": {
        "id": "kjJKR4o9bMiG"
      },
      "execution_count": null,
      "outputs": []
    },
    {
      "cell_type": "code",
      "source": [
        "def Start_Encode(audio_file,Cover_path,expiry,Stego_path) :\n",
        "\n",
        "    audio_array,sample_rate = audio_to_array(audio_file)\n",
        "\n",
        "    text_file = 'temporary.txt'\n",
        "    array_to_text(audio_array,text_file)\n",
        "\n",
        "    Key = embed_text_random_expire(Cover_path, text_file,Stego_path, expiry)\n",
        "    print(Key,sample_rate)\n",
        "    return Key,sample_rate\n",
        "\n",
        "\n",
        "def Start_Decode(Stego_path,Key,sample_rate,Retrived_path) :\n",
        "\n",
        "    text_file = 'temporary.txt'\n",
        "    extract_text_random_expire(Stego_path,text_file,Key)\n",
        "    audio_array = text_to_array(text_file)\n",
        "    array_to_audio(Retrived_path,audio_array,sample_rate)"
      ],
      "metadata": {
        "id": "7viP1AG5RZcg"
      },
      "execution_count": null,
      "outputs": []
    },
    {
      "cell_type": "code",
      "source": [
        "op,ip = Start_Encode('abcd.wav','256_butter.jpg',100,'stego.png')\n",
        "Start_Decode('stego.png',op,ip,'Retrived.wav')"
      ],
      "metadata": {
        "colab": {
          "base_uri": "https://localhost:8080/"
        },
        "id": "RBCeu1flTolK",
        "outputId": "114764f0-8053-4de0-ee55-2a648c96e3b0"
      },
      "execution_count": null,
      "outputs": [
        {
          "output_type": "stream",
          "name": "stdout",
          "text": [
            "Attention : Message is too long to be embedded in the image.\n",
            "Resizing because of small cover image\n",
            "Resized image saved to 256_butter.jpg\n",
            "Audio embedded successfully into stego.png\n",
            "2995635217 44100\n",
            "Message extracted and saved to temporary.txt\n"
          ]
        }
      ]
    }
  ]
}