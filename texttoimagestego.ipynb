{
  "nbformat": 4,
  "nbformat_minor": 0,
  "metadata": {
    "colab": {
      "provenance": []
    },
    "kernelspec": {
      "name": "python3",
      "display_name": "Python 3"
    },
    "language_info": {
      "name": "python"
    }
  },
  "cells": [
    {
      "cell_type": "code",
      "source": [
        "from PIL import Image\n",
        "import matplotlib.pyplot as plt\n",
        "from google.colab import files"
      ],
      "metadata": {
        "id": "2Sm_JP25kLHC"
      },
      "execution_count": 6,
      "outputs": []
    },
    {
      "cell_type": "code",
      "source": [
        "def Read_image(image_path) :\n",
        "    image = Image.open(image_path)\n",
        "    image = image.convert(\"RGB\")\n",
        "    pixels = image.load()\n",
        "    return image,pixels\n",
        "\n",
        "def Show_image(image) :\n",
        "    plt.imshow(image)\n",
        "    plt.axis(\"off\")\n",
        "    plt.show()"
      ],
      "metadata": {
        "id": "2nwZqaWrkvgZ"
      },
      "execution_count": 7,
      "outputs": []
    },
    {
      "cell_type": "code",
      "source": [
        "def encode_message(image_path, message):\n",
        "    image,pixels = Read_image(image_path)\n",
        "\n",
        "    # Convert message to binary and add delimiter\n",
        "    binary_message = ''.join(format(ord(char), '08b') for char in message)\n",
        "    binary_message += '1111111111111110'  # Special delimiter to mark end\n",
        "\n",
        "    width, height = image.size\n",
        "    index = 0\n",
        "\n",
        "    for y in range(height):\n",
        "        for x in range(width):\n",
        "            if index < len(binary_message):\n",
        "                r, g, b = pixels[x, y]\n",
        "                # Modify the least significant bit (LSB) of the red channel\n",
        "                r = (r & ~1) | int(binary_message[index])\n",
        "                pixels[x, y] = (r, g, b)\n",
        "                index += 1\n",
        "\n",
        "    return image\n",
        "\n"
      ],
      "metadata": {
        "id": "B477mOd5wW70"
      },
      "execution_count": 8,
      "outputs": []
    },
    {
      "cell_type": "code",
      "source": [
        "def start_encode(image_path,message,output_path) :\n",
        "  encoded_image = encode_message(image_path, message)\n",
        "  response= 'y'\n",
        "  if response=='y' :\n",
        "    # Save in PNG format to prevent compression artifacts\n",
        "    encoded_image.save(output_path, \"PNG\")\n",
        "    print(f\"Stego image saved as {output_path}\")\n",
        "\n",
        "    # Download the image using Colab\n",
        "    files.download(output_path)\n",
        "  else :\n",
        "   print(\"Image not saved\")\n",
        "  return encoded_image"
      ],
      "metadata": {
        "id": "jUlLfKhw8b8x"
      },
      "execution_count": 9,
      "outputs": []
    },
    {
      "cell_type": "code",
      "source": [
        "image_path = \"volley image.jpeg\"  # Replace with your actual image path\n",
        "message = \"Hello\"\n",
        "output_path= \"newencode.png\"\n",
        "encoded_image=start_encode(image_path, message, output_path)\n",
        "Show_image(encoded_image)"
      ],
      "metadata": {
        "id": "PUi2PR2ZkWda"
      },
      "execution_count": null,
      "outputs": []
    },
    {
      "cell_type": "code",
      "source": [
        "def decode_message(image_path):\n",
        "    encoded_image = Image.open(image_path).convert(\"RGB\")\n",
        "    pixels = encoded_image.load()\n",
        "    width, height = encoded_image.size\n",
        "\n",
        "    binary_message = \"\"\n",
        "\n",
        "    for y in range(height):\n",
        "        for x in range(width):\n",
        "            r, _, _ = pixels[x, y]\n",
        "            binary_message += str(r & 1)\n",
        "\n",
        "    # Stop at delimiter\n",
        "    if \"1111111111111110\" in binary_message:\n",
        "        binary_message = binary_message.split(\"1111111111111110\")[0]\n",
        "\n",
        "    chars = [binary_message[i:i+8] for i in range(0, len(binary_message), 8)]\n",
        "    message = ''.join(chr(int(char, 2)) for char in chars)\n",
        "\n",
        "    return message\n",
        "\n",
        "\n"
      ],
      "metadata": {
        "id": "npFygX1dwbRr"
      },
      "execution_count": 10,
      "outputs": []
    },
    {
      "cell_type": "code",
      "source": [
        "# Use the downloaded stego image for decoding\n",
        "image_to_decode=\"newencode.png\"\n",
        "decoded_message = decode_message(image_to_decode)\n",
        "print(\"Decoded Message:\", decoded_message)"
      ],
      "metadata": {
        "colab": {
          "base_uri": "https://localhost:8080/"
        },
        "id": "ZLGlGlP2kbeK",
        "outputId": "bd06b1cf-fab3-4c98-c285-44c18463b551"
      },
      "execution_count": 15,
      "outputs": [
        {
          "output_type": "stream",
          "name": "stdout",
          "text": [
            "Decoded Message: Hello\n"
          ]
        }
      ]
    }
  ]
}