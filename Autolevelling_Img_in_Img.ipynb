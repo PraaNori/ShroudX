{
  "nbformat": 4,
  "nbformat_minor": 0,
  "metadata": {
    "colab": {
      "provenance": [],
      "include_colab_link": true
    },
    "kernelspec": {
      "name": "python3",
      "display_name": "Python 3"
    },
    "language_info": {
      "name": "python"
    }
  },
  "cells": [
    {
      "cell_type": "markdown",
      "metadata": {
        "id": "view-in-github",
        "colab_type": "text"
      },
      "source": [
        "<a href=\"https://colab.research.google.com/github/saisriy/ShroudX/blob/main/Autolevelling_Img_in_Img.ipynb\" target=\"_parent\"><img src=\"https://colab.research.google.com/assets/colab-badge.svg\" alt=\"Open In Colab\"/></a>"
      ]
    },
    {
      "cell_type": "code",
      "source": [
        "import numpy as np\n",
        "import matplotlib.pyplot as plt\n",
        "import cv2\n",
        "import math"
      ],
      "metadata": {
        "id": "_PyIiMNNIjZr"
      },
      "execution_count": 36,
      "outputs": []
    },
    {
      "cell_type": "code",
      "source": [
        "def Read_image(image_path) :\n",
        "    image = cv2.imread(image_path)\n",
        "    return image\n",
        "\n",
        "def Write_image(image_path,image) :\n",
        "    cv2.imwrite(image_path,image)\n",
        "\n",
        "def Show_image(image,title) :\n",
        "    plt.imshow(cv2.cvtColor(image, cv2.COLOR_BGR2RGB))\n",
        "    plt.title(title)\n",
        "    plt.show()\n",
        "\n",
        "\n",
        "def resize_image(image_path, output_path, width, height) :\n",
        "    image = Read_image(image_path)\n",
        "    resized_image = cv2.resize(image, (width, height))\n",
        "    Write_image(output_path, resized_image)"
      ],
      "metadata": {
        "id": "orxS-VFGI5Dx"
      },
      "execution_count": 37,
      "outputs": []
    },
    {
      "cell_type": "code",
      "source": [
        "'''\n",
        "  Converts each value into 8-bit binary representation\n",
        "'''\n",
        "def image_to_binary_3D(image):\n",
        "    image = np.nan_to_num(image, nan=0.0).astype(np.uint8) #V\n",
        "    binary_image = np.vectorize(lambda x: format(x, '08b'))(image)\n",
        "    return binary_image"
      ],
      "metadata": {
        "id": "x9d0-nHRKINg"
      },
      "execution_count": 38,
      "outputs": []
    },
    {
      "cell_type": "code",
      "source": [
        "'''\n",
        "    Store corresponging index's value in a list\n",
        "'''\n",
        "def each_bit(binary_image,index,height,width,color) :\n",
        "    matrix =[]\n",
        "    for i in range(height) :\n",
        "      Line = []\n",
        "      for j in range(width) :\n",
        "        cell = []\n",
        "        for k in range(color) :\n",
        "          cell.append(binary_image[i][j][k][index])\n",
        "        Line.append(cell)\n",
        "      matrix.append(Line)\n",
        "    return matrix\n"
      ],
      "metadata": {
        "id": "wJJ6qldRKSQu"
      },
      "execution_count": 39,
      "outputs": []
    },
    {
      "cell_type": "code",
      "source": [
        "def Divider(binary_matrix) :\n",
        "    matrix = []\n",
        "    height, width, color = binary_matrix.shape\n",
        "\n",
        "    for i in range(8) :\n",
        "      matrix.append(each_bit(binary_matrix,i,height,width,color))\n",
        "    return matrix"
      ],
      "metadata": {
        "id": "8K5ixsNFKYzW"
      },
      "execution_count": 40,
      "outputs": []
    },
    {
      "cell_type": "code",
      "source": [
        "def Combiner(index_1,index_2,Matrix,binary_matrix) :\n",
        "    matrix = []\n",
        "    height, width, color = binary_matrix.shape\n",
        "\n",
        "    for i in range(height):\n",
        "      Line = []\n",
        "      for j in range(width) :\n",
        "        cell = []\n",
        "        for k in range(color) :\n",
        "          unit = ''\n",
        "          for l in range(index_1,index_2+1) :\n",
        "            unit += Matrix[l][i][j][k]\n",
        "          for x in range(7-index_2+index_1) :\n",
        "            unit += '0'\n",
        "\n",
        "          cell.append(unit)\n",
        "        Line.append(cell)\n",
        "      matrix.append(Line)\n",
        "    return matrix"
      ],
      "metadata": {
        "id": "I0IXFa75Lapi"
      },
      "execution_count": 41,
      "outputs": []
    },
    {
      "cell_type": "code",
      "source": [
        "def binary_to_int(binary_string) :\n",
        "  return int(binary_string, 2)"
      ],
      "metadata": {
        "id": "3rMccrHpMgUZ"
      },
      "execution_count": 42,
      "outputs": []
    },
    {
      "cell_type": "code",
      "source": [
        "def making_to_int(binary_matrix) :\n",
        "    height,width,color = binary_matrix.shape\n",
        "    number_matrix = []\n",
        "    for i in range(height) :\n",
        "       Line = []\n",
        "       for j in range(width) :\n",
        "          cell = []\n",
        "          for k in range(color) :\n",
        "            unit = binary_to_int(binary_matrix[i][j][k])\n",
        "            cell.append(unit)\n",
        "          Line.append(cell)\n",
        "       number_matrix.append(Line)\n",
        "\n",
        "    return number_matrix"
      ],
      "metadata": {
        "id": "KDsyW2ApytWo"
      },
      "execution_count": 43,
      "outputs": []
    },
    {
      "cell_type": "code",
      "source": [
        "from PIL import Image, ImageEnhance\n",
        "\n",
        "def enhance_image(image_path, output_path, sharpness=2.5, contrast=1, brightness=1):\n",
        "    # Open the image\n",
        "    img = Image.open(image_path)\n",
        "\n",
        "    # Enhance sharpness\n",
        "    enhancer = ImageEnhance.Sharpness(img)\n",
        "    img = enhancer.enhance(sharpness)\n",
        "\n",
        "    # Enhance contrast\n",
        "    enhancer = ImageEnhance.Contrast(img)\n",
        "    img = enhancer.enhance(contrast)\n",
        "\n",
        "    # Enhance brightness\n",
        "    enhancer = ImageEnhance.Brightness(img)\n",
        "    img = enhancer.enhance(brightness)\n",
        "\n",
        "    # Save the enhanced image\n",
        "    img.save(output_path)"
      ],
      "metadata": {
        "id": "GwAfbkoGHmZO"
      },
      "execution_count": 44,
      "outputs": []
    },
    {
      "cell_type": "code",
      "source": [
        "def Triggering_Level (cover_path,secret_path) :\n",
        "    cover = Read_image(cover_path)\n",
        "    secret = Read_image(secret_path)\n",
        "    a,b = cover.shape[:2]\n",
        "    c,d = secret.shape[:2]\n",
        "    Level = (a * b) / (c * d)\n",
        "    if Level * c*d == a * b :\n",
        "        Level = int(Level)\n",
        "    else :\n",
        "        Level = int(Level) + 1\n",
        "\n",
        "    if Level >= 8 :\n",
        "        Level = 1\n",
        "    elif Level < 8 and Level >= 4 :\n",
        "        Level = 2\n",
        "    elif Level < 4 and Level >= 2 :\n",
        "        Level = 4\n",
        "    else :\n",
        "        Level = 8\n",
        "    return Level"
      ],
      "metadata": {
        "id": "RN4OmpiaWgyJ"
      },
      "execution_count": 46,
      "outputs": []
    },
    {
      "cell_type": "code",
      "source": [
        "def Encode_im_im(cover_path, secret_paths,some, output_path,Level) :\n",
        "\n",
        "    cover = Read_image(cover_path)\n",
        "    numbers,height, width,color = secret_paths.shape[:4]\n",
        "    cover_height, cover_width = cover.shape[:2]\n",
        "    Masking_factor = (0xFF << (Level)) & 0xFF\n",
        "    numbers = int(numbers/Level)\n",
        "\n",
        "    cover_masked = cover.copy()\n",
        "\n",
        "    e = 0\n",
        "    f = 0\n",
        "    for i in range(numbers * height * width) :\n",
        "        cover_masked[e, f] = cover_masked[e, f] & Masking_factor\n",
        "        f += 1\n",
        "        if f == cover_width :\n",
        "            f = 0\n",
        "            e += 1\n",
        "\n",
        "\n",
        "    secrets = []\n",
        "\n",
        "    for i in range(numbers) :\n",
        "        x = Combiner(Level*i,Level*(i+1) - 1,secret_paths,some)\n",
        "        x = np.array(x)\n",
        "        ix = making_to_int(x)\n",
        "        ix = np.array(ix)\n",
        "        sx = (ix >> (8-Level)).astype(np.uint8)\n",
        "        secrets.append(sx)\n",
        "\n",
        "    a = 0\n",
        "    b = 0\n",
        "    count = 0;\n",
        "    for i in range(cover_height) :\n",
        "        for j in range(cover_width) :\n",
        "                if count >= numbers * height * width :\n",
        "                    break\n",
        "                d = count % numbers\n",
        "                cover_masked[i,j] |= secrets[d][a,b]\n",
        "\n",
        "                if d == numbers-1 :\n",
        "                    b += 1\n",
        "                count += 1\n",
        "\n",
        "                if b == width :\n",
        "                    b = 0\n",
        "                    a = a+1\n",
        "\n",
        "\n",
        "    Write_image(output_path, cover_masked)\n",
        "\n",
        "    return [numbers,height,width,color]\n",
        "\n",
        "def Decode(stego_path, output_path, secret_size,l,x) :\n",
        "\n",
        "    stego = Read_image(stego_path)\n",
        "    numbers,height,width,color = secret_size[:4]\n",
        "    stego_height, stego_width = stego.shape[:2]\n",
        "\n",
        "    Level = int(8/x)\n",
        "\n",
        "    deMasking_factor = (0xFF >> (8-Level)) & 0xFF\n",
        "\n",
        "    secrets = []\n",
        "    for i in range(numbers) :\n",
        "        secrets.append(np.zeros((height, width, 3), dtype=np.uint8))\n",
        "\n",
        "    index = 0\n",
        "    a = 0\n",
        "    b = 0\n",
        "    for i in range(stego_height) :\n",
        "        for j in range(stego_width) :\n",
        "            if a >= height :\n",
        "                break\n",
        "            s = index % numbers\n",
        "            secrets[s][a,b] = (stego[i,j] & deMasking_factor) << (8 - Level*(s+1))\n",
        "\n",
        "\n",
        "            if s == numbers-1 :\n",
        "              b += 1\n",
        "\n",
        "            index += 1\n",
        "\n",
        "            if b == width :\n",
        "                b = 0\n",
        "                a = a+1\n",
        "\n",
        "    Reconstruct_im_im(secrets,output_path)\n",
        "    resize_image(output_path,output_path, int(width*math.sqrt(l*x/8)), int(height*math.sqrt(l*x/8)))\n",
        "    enhance_image(output_path,output_path)\n",
        "\n",
        "\n",
        "def Reconstruct_im_im(secret_Image_matrix, output_path) :\n",
        "    height ,width = secret_Image_matrix[0].shape[:2]\n",
        "    recombined_image = np.zeros_like(secret_Image_matrix[0])\n",
        "\n",
        "    for i in range(height) :\n",
        "        for j in range(width) :\n",
        "                sum = 0\n",
        "                for x in range(len(secret_Image_matrix)) :\n",
        "                    sum += secret_Image_matrix[x][i,j]\n",
        "                recombined_image[i, j] = sum\n",
        "    Write_image(output_path, recombined_image)"
      ],
      "metadata": {
        "id": "vTcMm-lDPMNH"
      },
      "execution_count": 47,
      "outputs": []
    },
    {
      "cell_type": "code",
      "source": [
        "def Level_encode(cover_image_path,secret_image_path,output_image_path,temp_path,x):\n",
        "    cover_image = Read_image(cover_image_path)\n",
        "    secret_image = Read_image(secret_image_path)\n",
        "    Level = Triggering_Level(cover_image_path,secret_image_path)\n",
        "    l = Level\n",
        "    Level = int(8/x)\n",
        "    resize_image(secret_image_path,temp_path, int(secret_image.shape[1]/math.sqrt(l*x/8)), int(secret_image.shape[0]/math.sqrt(l*x/8)))\n",
        "    secret_image = Read_image(temp_path)\n",
        "    Binary_Matrix = image_to_binary_3D(secret_image)\n",
        "    Bitted_Matrix = Divider(Binary_Matrix)\n",
        "    Bitted_Matrix = np.array(Bitted_Matrix)\n",
        "    code = Encode_im_im(cover_image_path,Bitted_Matrix,Binary_Matrix,output_image_path,Level)\n",
        "    return code,l"
      ],
      "metadata": {
        "id": "KKe9AsLjO1hK"
      },
      "execution_count": 48,
      "outputs": []
    },
    {
      "cell_type": "code",
      "source": [
        "def calculate_psnr_im_im(img1_path, img2_path):\n",
        "    img1 = cv2.imread(img1_path)\n",
        "    img2 = cv2.imread(img2_path)\n",
        "\n",
        "    if img1.shape != img2.shape:\n",
        "        resize_image(img1_path,img1_path, img2.shape[0], img2.shape[1])\n",
        "        img1 = cv2.imread(img1_path)\n",
        "    # Calculate MSE\n",
        "    mse = np.mean((img1 - img2)**2)\n",
        "\n",
        "    # Calculate PSNR\n",
        "    if mse == 0:\n",
        "        return float('inf')  # Handle case where images are identical\n",
        "    max_pixel = 255.0\n",
        "    psnr = 20 * np.log10(max_pixel / np.sqrt(mse))\n",
        "\n",
        "    return psnr"
      ],
      "metadata": {
        "id": "485RVSNBSlQz"
      },
      "execution_count": 49,
      "outputs": []
    },
    {
      "cell_type": "code",
      "source": [
        "def hamming_distance(image_path1, image_path2) :\n",
        "  image1 = Read_image(image_path1)\n",
        "  image2 = Read_image(image_path2)\n",
        "\n",
        "  image_path3 = 'pemt.png'\n",
        "  if image1.shape != image2.shape:\n",
        "      resize_image(image_path1, image_path3, image2.shape[1], image2.shape[0]) #V width, height were reversed\n",
        "      image3 = cv2.imread(image_path3)\n",
        "  else:\n",
        "      image3 = image1\n",
        "\n",
        "\n",
        "  diff = image3 != image2\n",
        "  distance = np.count_nonzero(diff)\n",
        "\n",
        "  return distance"
      ],
      "metadata": {
        "id": "J8SZ11xOIijA"
      },
      "execution_count": 45,
      "outputs": []
    },
    {
      "cell_type": "code",
      "source": [
        "def Start_Encode(cover_image_path,secret_image_path,output_image_path,temp_path='temp.png',random_path='random.png') :\n",
        "    code2,l2 = Level_encode(cover_image_path,secret_image_path,'temp1.png','temp_path1.png',2)\n",
        "    Decode('temp1.png','random1.png',code2,l2,2)\n",
        "    ham2 = hamming_distance(secret_image_path,'random1.png')\n",
        "\n",
        "    code4,l4 = Level_encode(cover_image_path,secret_image_path,'temp2.png','temp_path2.png',4)\n",
        "    Decode('temp2.png','random2.png',code4,l4,4)\n",
        "    ham4 = hamming_distance(secret_image_path,'random2.png')\n",
        "\n",
        "    code8,l8 = Level_encode(cover_image_path,secret_image_path,'temp3.png','temp_path3.png',8)\n",
        "    Decode('temp3.png','random3.png',code8,l8,8)\n",
        "    ham8 = hamming_distance(secret_image_path,'random3.png')\n",
        "\n",
        "    if ham2 < ham4 and ham2 < ham8 :\n",
        "        code,l = Level_encode(cover_image_path,secret_image_path,output_image_path,temp_path,2)\n",
        "        x = 2\n",
        "    elif ham4 < ham2 and ham4 < ham8 :\n",
        "        code,l = Level_encode(cover_image_path,secret_image_path,output_image_path,temp_path,4)\n",
        "        x = 4\n",
        "    else :\n",
        "        code,l = Level_encode(cover_image_path,secret_image_path,output_image_path,temp_path,8)\n",
        "        x = 8\n",
        "    print(code,l,x)\n",
        "    return code,l,x"
      ],
      "metadata": {
        "id": "00QlvniDjnTZ"
      },
      "execution_count": 50,
      "outputs": []
    },
    {
      "cell_type": "code",
      "source": [
        "code,l,x = Start_Encode('tree.png','wall.png','Stego.png')\n",
        "Decode('Stego.png','Retrived.png',code,l,x)"
      ],
      "metadata": {
        "colab": {
          "base_uri": "https://localhost:8080/"
        },
        "id": "Dc5TawBVVDTA",
        "outputId": "15a697a2-be05-46e3-aa52-a37e65727781"
      },
      "execution_count": 51,
      "outputs": [
        {
          "output_type": "stream",
          "name": "stdout",
          "text": [
            "[8, 45, 50, 3] 1 8\n"
          ]
        }
      ]
    }
  ]
}